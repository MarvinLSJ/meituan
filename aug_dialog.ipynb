{
 "cells": [
  {
   "cell_type": "code",
   "execution_count": 4,
   "metadata": {},
   "outputs": [],
   "source": [
    "import pandas as pd\n",
    "import time\n",
    "import jieba"
   ]
  },
  {
   "cell_type": "markdown",
   "metadata": {},
   "source": [
    "## Read Files"
   ]
  },
  {
   "cell_type": "markdown",
   "metadata": {},
   "source": [
    "读取标注数据，分析并清理数据"
   ]
  },
  {
   "cell_type": "code",
   "execution_count": 5,
   "metadata": {},
   "outputs": [],
   "source": [
    "data = pd.read_excel('data/labeled_csc_0.xlsx', header=None)"
   ]
  },
  {
   "cell_type": "code",
   "execution_count": 6,
   "metadata": {},
   "outputs": [],
   "source": [
    "file=['data/labeled_csc_0.xlsx','data/labeled_csc_1.xlsx','data/labeled_csc_2.xlsx',\n",
    "      'data/labeled_csc_3.xlsx','data/labeled_csc_4.xlsx','data/labeled_csc_5.xlsx',\n",
    "      'data/labeled_csc_6.xlsx','data/labeled_csc_7.xlsx','data/labeled_csc_8.xlsx',\n",
    "      'data/labeled_csc_9.xlsx','data/labeled_csc_10.xlsx','data/labeled_csc_11.xlsx',\n",
    "      'data/labeled_csc_12.xlsx','data/labeled_csc_13.xlsx','data/labeled_csc_14.xlsx',\n",
    "      'data/labeled_csc_15.xlsx','data/labeled_csc_16.xlsx']\n",
    "li=[]\n",
    "for i in file:\n",
    "    li.append(pd.read_excel(i, header=None))\n",
    "data = pd.concat(li)"
   ]
  },
  {
   "cell_type": "code",
   "execution_count": 7,
   "metadata": {},
   "outputs": [
    {
     "data": {
      "text/plain": [
       "(192954, 4)"
      ]
     },
     "execution_count": 7,
     "metadata": {},
     "output_type": "execute_result"
    }
   ],
   "source": [
    "data.shape"
   ]
  },
  {
   "cell_type": "markdown",
   "metadata": {},
   "source": [
    "#### 有11条多一列，可能是需要注意的意图"
   ]
  },
  {
   "cell_type": "code",
   "execution_count": 8,
   "metadata": {},
   "outputs": [
    {
     "data": {
      "text/html": [
       "<div>\n",
       "<style scoped>\n",
       "    .dataframe tbody tr th:only-of-type {\n",
       "        vertical-align: middle;\n",
       "    }\n",
       "\n",
       "    .dataframe tbody tr th {\n",
       "        vertical-align: top;\n",
       "    }\n",
       "\n",
       "    .dataframe thead th {\n",
       "        text-align: right;\n",
       "    }\n",
       "</style>\n",
       "<table border=\"1\" class=\"dataframe\">\n",
       "  <thead>\n",
       "    <tr style=\"text-align: right;\">\n",
       "      <th></th>\n",
       "      <th>0</th>\n",
       "      <th>1</th>\n",
       "      <th>2</th>\n",
       "      <th>3</th>\n",
       "    </tr>\n",
       "  </thead>\n",
       "  <tbody>\n",
       "    <tr>\n",
       "      <th>10011</th>\n",
       "      <td>66743098.0</td>\n",
       "      <td>那我得去315投诉你们了</td>\n",
       "      <td>0</td>\n",
       "      <td>投诉315</td>\n",
       "    </tr>\n",
       "    <tr>\n",
       "      <th>10666</th>\n",
       "      <td>66046299.0</td>\n",
       "      <td>点评平台工作人员您好。我是13704660580的用户，黑龙江大庆市的新闻工作者慕月。我申诉...</td>\n",
       "      <td>0</td>\n",
       "      <td>曝光</td>\n",
       "    </tr>\n",
       "    <tr>\n",
       "      <th>11037</th>\n",
       "      <td>63472006.0</td>\n",
       "      <td>到底能不能解决。实在不能解决我就再次联系消费者协会投诉服务热线了。投诉大众点评</td>\n",
       "      <td>1</td>\n",
       "      <td>投诉消协</td>\n",
       "    </tr>\n",
       "    <tr>\n",
       "      <th>11061</th>\n",
       "      <td>66185300.0</td>\n",
       "      <td>我要向，我们当地的媒体投诉你们</td>\n",
       "      <td>0</td>\n",
       "      <td>曝光媒体</td>\n",
       "    </tr>\n",
       "    <tr>\n",
       "      <th>11064</th>\n",
       "      <td>66346632.0</td>\n",
       "      <td>如果不好好处理我去消协网站上投诉</td>\n",
       "      <td>1</td>\n",
       "      <td>曝光媒体</td>\n",
       "    </tr>\n",
       "    <tr>\n",
       "      <th>11232</th>\n",
       "      <td>60275966.0</td>\n",
       "      <td>要不直接通过12315投诉</td>\n",
       "      <td>1</td>\n",
       "      <td>投诉315</td>\n",
       "    </tr>\n",
       "    <tr>\n",
       "      <th>11305</th>\n",
       "      <td>67014912.0</td>\n",
       "      <td>我现在没有了，我打12315电话投诉了，后来才让我走的。</td>\n",
       "      <td>1</td>\n",
       "      <td>投诉315</td>\n",
       "    </tr>\n",
       "    <tr>\n",
       "      <th>11372</th>\n",
       "      <td>66700943.0</td>\n",
       "      <td>还是找工商部门投诉</td>\n",
       "      <td>1</td>\n",
       "      <td>投诉工商</td>\n",
       "    </tr>\n",
       "    <tr>\n",
       "      <th>11480</th>\n",
       "      <td>67118211.0</td>\n",
       "      <td>一起团的姐妹已退款，可以看一下理由是商家不接待。我因为当时向工商局投诉了就没退款等待工商局处...</td>\n",
       "      <td>1</td>\n",
       "      <td>投诉工商</td>\n",
       "    </tr>\n",
       "    <tr>\n",
       "      <th>11530</th>\n",
       "      <td>63887532.0</td>\n",
       "      <td>不给处理好，微博，贴吧全程曝光，你们就找这种商家合作吗</td>\n",
       "      <td>0</td>\n",
       "      <td>微博曝光</td>\n",
       "    </tr>\n",
       "    <tr>\n",
       "      <th>11750</th>\n",
       "      <td>64358077.0</td>\n",
       "      <td>你们继续以这种态度处理问题，我要到工商局去投诉了</td>\n",
       "      <td>0</td>\n",
       "      <td>投诉工商</td>\n",
       "    </tr>\n",
       "  </tbody>\n",
       "</table>\n",
       "</div>"
      ],
      "text/plain": [
       "                0                                                  1  2      3\n",
       "10011  66743098.0                                       那我得去315投诉你们了  0  投诉315\n",
       "10666  66046299.0  点评平台工作人员您好。我是13704660580的用户，黑龙江大庆市的新闻工作者慕月。我申诉...  0     曝光\n",
       "11037  63472006.0            到底能不能解决。实在不能解决我就再次联系消费者协会投诉服务热线了。投诉大众点评  1   投诉消协\n",
       "11061  66185300.0                                    我要向，我们当地的媒体投诉你们  0   曝光媒体\n",
       "11064  66346632.0                                   如果不好好处理我去消协网站上投诉  1   曝光媒体\n",
       "11232  60275966.0                                      要不直接通过12315投诉  1  投诉315\n",
       "11305  67014912.0                       我现在没有了，我打12315电话投诉了，后来才让我走的。  1  投诉315\n",
       "11372  66700943.0                                          还是找工商部门投诉  1   投诉工商\n",
       "11480  67118211.0  一起团的姐妹已退款，可以看一下理由是商家不接待。我因为当时向工商局投诉了就没退款等待工商局处...  1   投诉工商\n",
       "11530  63887532.0                        不给处理好，微博，贴吧全程曝光，你们就找这种商家合作吗  0   微博曝光\n",
       "11750  64358077.0                           你们继续以这种态度处理问题，我要到工商局去投诉了  0   投诉工商"
      ]
     },
     "execution_count": 8,
     "metadata": {},
     "output_type": "execute_result"
    }
   ],
   "source": [
    "data[(~data[3].isnull())]"
   ]
  },
  {
   "cell_type": "code",
   "execution_count": 9,
   "metadata": {},
   "outputs": [],
   "source": [
    "data = data.drop([0,3],axis=1)\n",
    "data.columns = ['content', 'label']"
   ]
  },
  {
   "cell_type": "markdown",
   "metadata": {},
   "source": [
    "#### Label: 0 愤怒  ，1 不满， 2 中性 ，3 满意， 4 赞扬"
   ]
  },
  {
   "cell_type": "code",
   "execution_count": 10,
   "metadata": {},
   "outputs": [
    {
     "name": "stdout",
     "output_type": "stream",
     "text": [
      "总共对话数据192954条:\n",
      "\n",
      "愤怒 数据11752条\n",
      "不满 数据56811条\n",
      "中性 数据104196条\n",
      "满意 数据4057条\n",
      "赞扬 数据331条\n"
     ]
    }
   ],
   "source": [
    "print('总共对话数据{}条:\\n'.format(data.shape[0]))\n",
    "print('愤怒 数据{}条\\n不满 数据{}条\\n中性 数据{}条\\n满意 数据{}条\\n赞扬 数据{}条'.format(data[data['label']==0].shape[0],\n",
    "                                                        data[data['label']==1].shape[0],data[data['label']==2].shape[0],\n",
    "                                                        data[data['label']==3].shape[0],data[data['label']==4].shape[0]))"
   ]
  },
  {
   "cell_type": "code",
   "execution_count": 84,
   "metadata": {},
   "outputs": [],
   "source": [
    "import matplotlib.pyplot as plt\n",
    "data_cate = [data[data['label']==0].shape[0], data[data['label']==1].shape[0],data[data['label']==2].shape[0],\n",
    "             data[data['label']==3].shape[0],data[data['label']==4].shape[0]]"
   ]
  },
  {
   "cell_type": "code",
   "execution_count": 92,
   "metadata": {},
   "outputs": [
    {
     "data": {
      "text/plain": [
       "Text(0.5,1,'Category Distribution')"
      ]
     },
     "execution_count": 92,
     "metadata": {},
     "output_type": "execute_result"
    },
    {
     "data": {
      "image/png": "[encoded data removed]",
      "text/plain": [
       "<Figure size 432x288 with 1 Axes>"
      ]
     },
     "metadata": {},
     "output_type": "display_data"
    }
   ],
   "source": [
    "plt.bar(['Angry', 'Not Satisfied', 'Neutral', 'Satisfied', 'Praise'],data_cate)\n",
    "plt.title('Category Distribution')"
   ]
  },
  {
   "cell_type": "markdown",
   "metadata": {},
   "source": [
    "#### 赞扬 急需数据增强"
   ]
  },
  {
   "cell_type": "code",
   "execution_count": 11,
   "metadata": {},
   "outputs": [
    {
     "data": {
      "text/html": [
       "<div>\n",
       "<style scoped>\n",
       "    .dataframe tbody tr th:only-of-type {\n",
       "        vertical-align: middle;\n",
       "    }\n",
       "\n",
       "    .dataframe tbody tr th {\n",
       "        vertical-align: top;\n",
       "    }\n",
       "\n",
       "    .dataframe thead th {\n",
       "        text-align: right;\n",
       "    }\n",
       "</style>\n",
       "<table border=\"1\" class=\"dataframe\">\n",
       "  <thead>\n",
       "    <tr style=\"text-align: right;\">\n",
       "      <th></th>\n",
       "      <th>content</th>\n",
       "      <th>label</th>\n",
       "    </tr>\n",
       "  </thead>\n",
       "  <tbody>\n",
       "    <tr>\n",
       "      <th>2994</th>\n",
       "      <td>优质服务，赞一个！</td>\n",
       "      <td>4</td>\n",
       "    </tr>\n",
       "    <tr>\n",
       "      <th>4005</th>\n",
       "      <td>谢谢！非常感谢</td>\n",
       "      <td>4</td>\n",
       "    </tr>\n",
       "    <tr>\n",
       "      <th>4559</th>\n",
       "      <td>为您美团的效率点赞</td>\n",
       "      <td>4</td>\n",
       "    </tr>\n",
       "    <tr>\n",
       "      <th>5732</th>\n",
       "      <td>我已经收到退款了，太谢谢了，本来是给我朋友买的，他到不了。总之很谢谢啦[鲜花][鲜花][鲜花...</td>\n",
       "      <td>4</td>\n",
       "    </tr>\n",
       "    <tr>\n",
       "      <th>11597</th>\n",
       "      <td>对，给你个赞</td>\n",
       "      <td>4</td>\n",
       "    </tr>\n",
       "  </tbody>\n",
       "</table>\n",
       "</div>"
      ],
      "text/plain": [
       "                                                 content label\n",
       "2994                                           优质服务，赞一个！     4\n",
       "4005                                             谢谢！非常感谢     4\n",
       "4559                                           为您美团的效率点赞     4\n",
       "5732   我已经收到退款了，太谢谢了，本来是给我朋友买的，他到不了。总之很谢谢啦[鲜花][鲜花][鲜花...     4\n",
       "11597                                             对，给你个赞     4"
      ]
     },
     "execution_count": 11,
     "metadata": {},
     "output_type": "execute_result"
    }
   ],
   "source": [
    "praise = data[data['label']==4]\n",
    "praise.head()"
   ]
  },
  {
   "cell_type": "markdown",
   "metadata": {},
   "source": [
    "#### 去重"
   ]
  },
  {
   "cell_type": "code",
   "execution_count": 12,
   "metadata": {},
   "outputs": [],
   "source": [
    "praise = praise.drop_duplicates()"
   ]
  },
  {
   "cell_type": "markdown",
   "metadata": {},
   "source": [
    "#### 清理html"
   ]
  },
  {
   "cell_type": "code",
   "execution_count": 13,
   "metadata": {},
   "outputs": [],
   "source": [
    "import re\n",
    "def remove_html(string):\n",
    "   pattern_list = [\n",
    "       '<(img|div)?.*>?',\n",
    "       '<(img|div|span|url)[-A-Za-z0-9+&@#/%?=~_!:,.;\"sr…… ]+',\n",
    "       '<(div|ul|url|body|html|b|p|img|span|a)+.*/(div|ul|url|body|html|b|p|img|span|a)>',\n",
    "       '(https?|ftp|file)://[-A-Za-z0-9+&@#/%?=~_|!:,.;]+[-A-Za-z0-9+&@#/%=~_|]'\n",
    "   ]\n",
    "   for pattern in pattern_list:\n",
    "       temp = re.search(pattern, string)\n",
    "       if temp != None:\n",
    "           result = temp.group(0)\n",
    "           string = string.replace(result, '')\n",
    "   return string"
   ]
  },
  {
   "cell_type": "code",
   "execution_count": 14,
   "metadata": {},
   "outputs": [],
   "source": [
    "praise['content'] = praise.content.map(lambda x: remove_html(x))"
   ]
  },
  {
   "cell_type": "markdown",
   "metadata": {},
   "source": [
    "# Augmentation by Translation"
   ]
  },
  {
   "cell_type": "markdown",
   "metadata": {},
   "source": [
    "**Main Idea:**  \n",
    "\n",
    "    Using round-translation( translate sentence from source language to target language and then translate it back to source language ) to obtain more sentences.\n",
    "    \n",
    "**Implementation:**  \n",
    "\n",
    "    Requesting the google translation service, there are some tricks in requesting url:  \n",
    "        1. Google calculate a token according to different translation content by js.\n",
    "        2. Requesting interval need to be reasonable or google will cease taking requests.\n",
    "        3. Languages from different origin can obtain more diverse result.\n",
    "        \n",
    "**Some tricks:**  \n",
    "\n",
    "    1. Requesting interval set to 3-5 seconds.\n",
    "    2. Adding random seconds to make request interval to be different, avoid being detected.\n",
    "    3. Prevent urlopen request time out.\n",
    "    4. Avoid some rare language to ensure response efficiency.\n",
    "    5. Save partial results from time to time, prevent unstable network causing result loss."
   ]
  },
  {
   "cell_type": "markdown",
   "metadata": {},
   "source": [
    "### Request functions"
   ]
  },
  {
   "cell_type": "code",
   "execution_count": 81,
   "metadata": {},
   "outputs": [],
   "source": [
    "\"\"\"\n",
    "Calculating tokens from content by js\n",
    "\"\"\"\n",
    "import execjs\n",
    "class Py4Js():\n",
    "    \n",
    "    def __init__(self):\n",
    "        self.ctx = execjs.compile(\"\"\"\n",
    "        function TL(a) {\n",
    "        var k = \"\";\n",
    "        var b = 406644;\n",
    "        var b1 = 3293161072;\n",
    "        \n",
    "        var jd = \".\";\n",
    "        var $b = \"+-a^+6\";\n",
    "        var Zb = \"+-3^+b+-f\";\n",
    "    \n",
    "        for (var e = [], f = 0, g = 0; g < a.length; g++) {\n",
    "            var m = a.charCodeAt(g);\n",
    "            128 > m ? e[f++] = m : (2048 > m ? e[f++] = m >> 6 | 192 : (55296 == (m & 64512) && g + 1 < a.length && 56320 == (a.charCodeAt(g + 1) & 64512) ? (m = 65536 + ((m & 1023) << 10) + (a.charCodeAt(++g) & 1023),\n",
    "            e[f++] = m >> 18 | 240,\n",
    "            e[f++] = m >> 12 & 63 | 128) : e[f++] = m >> 12 | 224,\n",
    "            e[f++] = m >> 6 & 63 | 128),\n",
    "            e[f++] = m & 63 | 128)\n",
    "        }\n",
    "        a = b;\n",
    "        for (f = 0; f < e.length; f++) a += e[f],\n",
    "        a = RL(a, $b);\n",
    "        a = RL(a, Zb);\n",
    "        a ^= b1 || 0;\n",
    "        0 > a && (a = (a & 2147483647) + 2147483648);\n",
    "        a %= 1E6;\n",
    "        return a.toString() + jd + (a ^ b)\n",
    "    };\n",
    "    \n",
    "    function RL(a, b) {\n",
    "        var t = \"a\";\n",
    "        var Yb = \"+\";\n",
    "        for (var c = 0; c < b.length - 2; c += 3) {\n",
    "            var d = b.charAt(c + 2),\n",
    "            d = d >= t ? d.charCodeAt(0) - 87 : Number(d),\n",
    "            d = b.charAt(c + 1) == Yb ? a >>> d: a << d;\n",
    "            a = b.charAt(c) == Yb ? a + d & 4294967295 : a ^ d\n",
    "        }\n",
    "        return a\n",
    "    }\n",
    "    \"\"\")\n",
    "        \n",
    "    def getTk(self,text):\n",
    "        return self.ctx.call(\"TL\",text)\n"
   ]
  },
  {
   "cell_type": "code",
   "execution_count": 16,
   "metadata": {},
   "outputs": [],
   "source": [
    "\"\"\"\n",
    "Concat url and sending request\n",
    "\"\"\"\n",
    "\n",
    "import urllib.request \n",
    "import random\n",
    "  \n",
    "def open_url(url):  \n",
    "    headers = {'User-Agent':'Mozilla/5.0 (Windows NT 6.1; WOW64; rv:23.0) Gecko/20100101 Firefox/23.0'}    \n",
    "    req = urllib.request.Request(url = url,headers=headers)  \n",
    "#     response = urllib.request.urlopen(req)\n",
    "\n",
    "    global Max_Num\n",
    "    Max_Num=10\n",
    "    for i in range(Max_Num):\n",
    "        try:\n",
    "            response = urllib.request.urlopen(req)\n",
    "            break\n",
    "        except:\n",
    "            if i < Max_Num-1:\n",
    "                continue\n",
    "            else :\n",
    "                print('URLError: <urlopen error timed out> All times is failed ')\n",
    "                    \n",
    "    data = response.read().decode('utf-8')  \n",
    "    return data  \n",
    "  \n",
    "def translate(content,tk, source, target):  \n",
    "    if len(content) > 4891:  \n",
    "        print(\"翻译的长度超过限制！！！\")  \n",
    "        return   \n",
    "      \n",
    "    content = urllib.parse.quote(content)  \n",
    "      \n",
    "    url = \"http://translate.google.com/translate_a/single?client=t&sl=\"+source+\"&tl=\"+target+\"&hl=\"+target+ \"&dt=at&dt=bd&dt=ex&dt=ld&dt=md&dt=qca&dt=rw&dt=rm&dt=ss&dt=t&ie=UTF-8&oe=UTF-8&clearbtn=1&otf=1&pc=1&srcrom=0&ssel=0&tsel=0&kc=2&tk=%s&q=%s\"%(tk,content)  \n",
    "    \n",
    "    time.sleep(1 + random.random())\n",
    "    result = open_url(url)  \n",
    "      \n",
    "    end = result.find(\"\\\",\")  \n",
    "    if end > 4:  \n",
    "#         print(result[4:end]) \n",
    "        return result[4:end]\n",
    "    "
   ]
  },
  {
   "cell_type": "code",
   "execution_count": 17,
   "metadata": {},
   "outputs": [],
   "source": [
    "\"\"\"\n",
    "Round-translation\n",
    "\"\"\"\n",
    "\n",
    "def trans(content, tl):\n",
    "    js = Py4Js() \n",
    "    \n",
    "    sl = 'zh-CN'\n",
    "    tk = js.getTk(content)\n",
    "    mid = translate(content,tk, sl, tl)\n",
    "    mid = clean(mid)\n",
    "    time.sleep(3)\n",
    "#     print(tl, mid)\n",
    "    tk = js.getTk(mid)\n",
    "    return translate(mid,tk, tl, sl)"
   ]
  },
  {
   "cell_type": "code",
   "execution_count": 20,
   "metadata": {},
   "outputs": [],
   "source": [
    "\"\"\"\n",
    "Round-translate in multiple languages\n",
    "\"\"\"\n",
    "def multi_trans(content):\n",
    "    res = []\n",
    "    js = Py4Js() \n",
    "    \n",
    "    res.append(trans(content, 'en'))\n",
    "    res.append(trans(content, 'ja'))\n",
    "    res.append(trans(content, 'th'))\n",
    "    res.append(trans(content, 'es'))\n",
    "    res.append(trans(content, 'fr'))\n",
    "    res.append(trans(content, 'ru'))\n",
    "    res.append(trans(content, 'uk'))\n",
    "    res.append(trans(content, 'sv'))\n",
    "    res.append(trans(content, 'sr'))\n",
    "#     res.append(trans(content, 'sq'))\n",
    "    res.append(trans(content, 'ro'))\n",
    "#     res.append(trans(content, 'pt'))\n",
    "#     res.append(trans(content, 'pl'))\n",
    "    res.append(trans(content, 'no'))\n",
    "    res.append(trans(content, 'nl'))\n",
    "    res.append(trans(content, 'ko'))\n",
    "    res.append(trans(content, 'lt'))\n",
    "    res.append(trans(content, 'it'))\n",
    "    res.append(trans(content, 'hr'))\n",
    "    res.append(trans(content, 'de'))\n",
    "     \n",
    "    return res"
   ]
  },
  {
   "cell_type": "markdown",
   "metadata": {},
   "source": [
    "### Clean punctuations to avoid partial tranlation\n",
    "  \n",
    "Google will cut sentences by punctuations, to avoid getting partial results, substitute these punctuations to comma."
   ]
  },
  {
   "cell_type": "code",
   "execution_count": 18,
   "metadata": {},
   "outputs": [],
   "source": [
    "import re\n",
    "def clean(sent):\n",
    "    clean_s = re.sub(\"[。；;!！？?.]\",\",\",sent)\n",
    "    clean_s = re.sub('&nbsp', \",\", clean_s)\n",
    "    clean_s = re.sub('&#x1f61c', \" \", clean_s)\n",
    "    clean_s = re.sub('&#x1f444', \" \", clean_s)   \n",
    "    return clean_s"
   ]
  },
  {
   "cell_type": "code",
   "execution_count": 21,
   "metadata": {},
   "outputs": [],
   "source": [
    "praise['content'] = praise.content.map(lambda x: clean(x))"
   ]
  },
  {
   "cell_type": "markdown",
   "metadata": {},
   "source": [
    "### Round-translation E.g."
   ]
  },
  {
   "cell_type": "code",
   "execution_count": 19,
   "metadata": {},
   "outputs": [
    {
     "data": {
      "text/plain": [
       "'今天天气很好，'"
      ]
     },
     "execution_count": 19,
     "metadata": {},
     "output_type": "execute_result"
    }
   ],
   "source": [
    "trans('今天天气还真不错', 'ru')"
   ]
  },
  {
   "cell_type": "code",
   "execution_count": 27,
   "metadata": {},
   "outputs": [
    {
     "name": "stdout",
     "output_type": "stream",
     "text": [
      "en Your service is so good, I am so happy,\n",
      "ja あなたのサービスはとても良いです、私はとても幸せです,\n",
      "th บริการของคุณดีมากฉันมีความสุขมาก\n",
      "es Tu servicio es tan bueno, estoy tan feliz,\n",
      "fr Votre service est si bon, je suis si heureux,\n",
      "ru Ваше служение так хорошо, я так счастлив,\n",
      "uk Ваш сервіс настільки хороший, я так щаслива,\n",
      "sv Din tjänst är så bra, jag är så glad,\n",
      "sr Твоја служба је тако добра, тако сам срећна,\n",
      "ro Serviciul tău este atât de bun, sunt atât de fericit,\n",
      "pl Twoja służba jest tak dobra, jestem taka szczęśliwa,\n",
      "no Din tjeneste er så bra, jeg er så glad,\n",
      "nl Jouw service is zo goed, ik ben zo blij,\n",
      "ko 너의 서비스는 너무 좋고, 나는 너무 행복해,\n",
      "lt Jūsų paslauga yra tokia gera, aš esu labai laiminga,\n",
      "it Il tuo servizio è così buono, sono così felice,\n",
      "hr Vaša je usluga tako dobra, sretna sam,\n",
      "de Dein Service ist so gut, ich bin so glücklich,\n",
      "Content Length is 8 (jieba cut), has 14 duplicated result.\n"
     ]
    }
   ],
   "source": [
    "content = '你们的服务太好了，我好开心啊'\n",
    "res = pd.DataFrame(multi_trans(content))\n",
    "print('Content Length is {} (jieba cut), has {} duplicated result.'.format( len(list(jieba.cut(content))),res.duplicated().sum()))"
   ]
  },
  {
   "cell_type": "code",
   "execution_count": 24,
   "metadata": {},
   "outputs": [],
   "source": [
    "praise_idx = praise.reset_index()"
   ]
  },
  {
   "cell_type": "code",
   "execution_count": 25,
   "metadata": {},
   "outputs": [
    {
     "data": {
      "text/html": [
       "<div>\n",
       "<style scoped>\n",
       "    .dataframe tbody tr th:only-of-type {\n",
       "        vertical-align: middle;\n",
       "    }\n",
       "\n",
       "    .dataframe tbody tr th {\n",
       "        vertical-align: top;\n",
       "    }\n",
       "\n",
       "    .dataframe thead th {\n",
       "        text-align: right;\n",
       "    }\n",
       "</style>\n",
       "<table border=\"1\" class=\"dataframe\">\n",
       "  <thead>\n",
       "    <tr style=\"text-align: right;\">\n",
       "      <th></th>\n",
       "      <th>index</th>\n",
       "      <th>content</th>\n",
       "      <th>label</th>\n",
       "    </tr>\n",
       "  </thead>\n",
       "  <tbody>\n",
       "    <tr>\n",
       "      <th>56</th>\n",
       "      <td>3361</td>\n",
       "      <td>好的,非常感谢你耐心解决我的问题,后续开立分店后如果遇到问题我会继续咨询的,另外也建议可以专...</td>\n",
       "      <td>4</td>\n",
       "    </tr>\n",
       "  </tbody>\n",
       "</table>\n",
       "</div>"
      ],
      "text/plain": [
       "    index                                            content label\n",
       "56   3361  好的,非常感谢你耐心解决我的问题,后续开立分店后如果遇到问题我会继续咨询的,另外也建议可以专...     4"
      ]
     },
     "execution_count": 25,
     "metadata": {},
     "output_type": "execute_result"
    }
   ],
   "source": [
    "praise_idx[praise_idx['index'] == 3361]"
   ]
  },
  {
   "cell_type": "markdown",
   "metadata": {},
   "source": [
    "#### Get round-translate and drop duplicates"
   ]
  },
  {
   "cell_type": "code",
   "execution_count": 118,
   "metadata": {
    "scrolled": true
   },
   "outputs": [
    {
     "name": "stdout",
     "output_type": "stream",
     "text": [
      "en Excellent service, like one,\n",
      "ja 優れたサービス、1つのような、\n",
      "th บริการที่ยอดเยี่ยมเช่นเดียวกับ\n",
      "es Excelente servicio, como uno,\n",
      "fr Excellent service, comme un,\n",
      "ru Отличное обслуживание,\n",
      "uk Відмінний сервіс, як і один,\n",
      "sv Utmärkt service, som en,\n",
      "sr Одлична услуга, попут оне,\n",
      "ro Servicii excelente, ca unul,\n",
      "pl Doskonała usługa, taka jak ta,\n",
      "no Utmerket service, som en,\n",
      "nl Uitstekende service, zoals een,\n",
      "ko 우수한 서비스, 하나 같이,\n",
      "lt Puiki paslauga, tokia kaip viena\n",
      "it Servizio eccellente, come uno,\n",
      "hr Izvrsna usluga, poput jednog,\n",
      "de Exzellenter Service, wie ein,\n",
      "优质服务，赞一个, Done\n",
      "en Thank you very much\n",
      "ja ありがとう、ありがとう,\n",
      "th ขอบคุณมากครับ\n",
      "es Gracias, muchas gracias,\n",
      "fr Merci, merci beaucoup,\n",
      "ru Благодарю вас, большое спасибо,\n",
      "uk Дякую вам, дякую вам дуже,\n",
      "sv Tack, tack så mycket,\n",
      "sr Хвала, хвала вам пуно,\n",
      "ro Mulțumesc, vă mulțumesc foarte mult,\n",
      "pl Dziękuję, dziękuję bardzo,\n",
      "no Takk, tusen takk,\n",
      "nl Bedankt, heel erg bedankt,\n",
      "ko 고마워요, 고마워요,\n",
      "lt Ačiū, labai jums ačiū,\n",
      "it Grazie, molte grazie,\n",
      "hr Hvala vam, hvala vam puno,\n",
      "de Danke, vielen Dank,\n",
      "谢谢,非常感谢 Done\n",
      "en Like the efficiency of your beauty group\n",
      "ja あなたのビューティーグループの効率性のように\n",
      "th ชอบประสิทธิภาพของกลุ่มความงามของคุณ\n",
      "es Como la eficiencia de tu grupo de belleza\n",
      "fr Aimez l'efficacité de votre groupe de beauté\n",
      "ru Как эффективность вашей группы красоты\n",
      "uk Любіть ефективність вашої групи краси\n",
      "sv Gilla effektiviteten i din skönhetsgrupp\n",
      "sr Као и ефикасност ваше групе за лепоту\n",
      "ro Ca și eficiența grupului dvs, de frumusețe\n",
      "pl Podobnie jak efektywność twojej grupy urody\n",
      "no Som effektiviteten til skjønnhetsgruppen din\n",
      "nl Zoals de efficiëntie van uw schoonheidssalon\n",
      "ko 뷰티 그룹의 효율성과 마찬가지로\n",
      "lt Kaip ir jūsų grožio grupės efektyvumas\n",
      "it Come l'efficienza del tuo gruppo di bellezza\n",
      "hr Poput učinkovitosti vaše ljepotice\n",
      "de Wie die Effizienz Ihrer Beauty-Gruppe\n",
      "为您美团的效率点赞 Done\n",
      "en I have received the refund, thank you very much, I originally bought it for my friend, He can't get it, In short, thank you very much [flowers][flowers][flowers][flowers]\n",
      "ja 私は払い戻しを受けてくれました、ありがとうございます,私はもともと私の友人のためにそれを買いました,\n",
      "th ฉันได้รับเงินคืนแล้วขอบคุณมากฉันซื้อครั้งแรกให้เพื่อนของฉันเขาไม่สามารถรับได้ในระยะสั้นขอบคุณมาก [flowers] [flowers] [flowers] [flowers]\n",
      "es He recibido el reembolso, muchas gracias, Originalmente lo compré para mi amigo, Él no puede conseguirlo, En resumen, muchas gracias [flores] [flores] [flores] [flores]\n",
      "fr J'ai reçu le remboursement, merci beaucoup, je l'ai acheté à l'origine pour mon ami, il ne peut pas l'obtenir, bref merci beaucoup [fleurs] [fleurs] [fleurs] [fleurs]\n",
      "ru Я получил возмещение, большое спасибо, Я изначально купил его для своего друга, он не может его получить, Короче говоря, большое спасибо [цветы] [цветы] [цветы] [цветы]\n",
      "uk Я отримав відшкодування, дуже дякую, спочатку я купив його для мого друга, він не може це отримати, Коротше кажучи, дякую вам дуже: [квіти] [квіти] [квіти] [квіти]\n",
      "sv Jag har fått återbetalningen, tack så mycket, Jag köpte det ursprungligen till min vän, Han kan inte få det, Kort sagt tack så mycket [blommor] [blommor] [blommor] [blommor]\n",
      "sr Добио сам повраћај, хвала вам пуно, ја сам га оригинално купио за мог пријатеља, не може га добити, Укратко, хвала вам пуно [цвијеће] [цвијеће] [цвијеће] [цвијеће]\n",
      "ro Am primit rambursarea, multumesc foarte mult, am cumparat-o initial pentru prietenul meu, nu-l poate obtine, pe scurt, multumesc foarte mult [flori] [flori] [flori] [flori]\n",
      "pl Otrzymałem zwrot pieniędzy, dziękuję bardzo, pierwotnie kupiłem go dla mojego przyjaciela, nie może go dostać, Krótko mówiąc, bardzo dziękuję [kwiaty] [kwiaty] [kwiaty] [kwiaty]\n",
      "no Jeg har mottatt tilbakebetaling, takk så mye, Jeg opprinnelig kjøpte den til min venn, Han kan ikke få det, Kort sagt, takk så mye [blomster] [blomster] [blomster] [blomster]\n",
      "nl Ik heb de restitutie ontvangen, heel erg bedankt, Ik kocht het oorspronkelijk voor mijn vriend, hij kan het niet krijgen, \\\"Kortom, heel erg bedankt [bloemen] [bloemen] [bloemen] [bloemen]\n",
      "ko 환불을 받으 셨습니다, 대단히 감사합니다, 원래는 친구에게 사 주었고 받아 들일 수 없습니다, [꽃] [꽃] [꽃] [꽃]\n",
      "lt Trumpai tariant, ačiū labai [gėlės] [gėlės] [gėlės] [gėlės]\n",
      "it Ho ricevuto il rimborso, molte grazie, l'ho comprato originariamente per il mio amico, non ce l'ha, insomma, grazie mille [fiori] [fiori] [fiori] [fiori]\n",
      "hr Ukratko, puno vam hvala [cvjetovi] [cvjetovi] [cvjetovi] [cvjetovi] [cvjetovi] [cvjetovi]\n",
      "de Ich habe die Rückerstattung erhalten, vielen Dank, Ich kaufte es ursprünglich für meinen Freund, Er kann es nicht bekommen, Kurz gesagt, vielen Dank [Blumen] [Blumen] [Blumen] [Blumen]\n",
      "我已经收到退款了，太谢谢了，本来是给我朋友买的，他到不了,总之很谢谢啦[鲜花][鲜花][鲜花][鲜花] Done\n",
      "en Yes, give you a compliment\n",
      "ja はい、あなたに褒め言葉をください\n",
      "th ใช่ให้คำชมเชย\n",
      "es Sí, dale un cumplido\n",
      "fr Oui, vous faire un compliment\n",
      "ru Да, дайте комплимент\n",
      "uk Так, дайте вам комплімент\n",
      "sv Ja, ge dig ett kompliment\n",
      "sr Да, дајем вам комплимент\n",
      "ro Da, dă-ți un compliment\n",
      "pl Tak, daj komplement\n",
      "no Ja, gi deg et kompliment\n",
      "nl Ja, geef je een compliment\n",
      "ko 네, 칭찬 해주세요,\n",
      "lt Taip, duok komplimentą\n",
      "it Sì, ti faccio un complimento\n",
      "hr Da, dati vam kompliment\n",
      "de Ja, geben Sie ein Kompliment\n",
      "对，给你个赞 Done\n",
      "en I asked 3 customer service or did you find the reason, Thank you, you should give more flowers, you should\n",
      "ja 私は3つの顧客サービスに尋ねましたか、それとも理由を見つけましたか,ありがとうございます、もっと花を贈るべきです,\n",
      "th ฉันถาม 3 บริการลูกค้าหรือคุณพบเหตุผลหรือไม่ขอบคุณคุณควรให้ดอกไม้มากขึ้นคุณควร\n",
      "es Le pregunté a 3 de atención al cliente o ¿encontraste la razón, Gracias, deberías dar más flores, deberías\n",
      "fr J'ai demandé 3 service à la clientèle ou avez-vous trouvé la raison, Merci, vous devriez donner plus de fleurs, vous devriez\n",
      "ru Я спросил 3 клиента или вы нашли причину, Спасибо, вы должны дать больше цветов, вы должны\n",
      "uk Я попросив 3 служби підтримки або знайшов причину, Дякую, вам слід дати більше квітів\n",
      "sv Jag frågade 3 kundservice eller hittade du orsaken, Tack, du borde ge fler blommor, du borde\n",
      "sr Питао сам 3 службе за кориснике или сте пронашли разлог, Хвала, требали бисте дати још цвијећа, требали бисте\n",
      "ro Am cerut 3 servicii pentru clienți sau ați găsit motivul, Mulțumesc, ar trebui să oferiți mai multe flori, ar trebui\n",
      "pl Poprosiłem o 3 obsługę klienta lub znalazłeś powód, Dziękuję, powinieneś dać więcej kwiatów, powinieneś\n",
      "no Jeg spurte 3 kundeservice, eller fant du grunnen, Takk, du burde gi flere blomster, du burde\n",
      "nl Ik vroeg 3 klantenservice of heb je de reden gevonden, Bedankt, je zou meer bloemen moeten geven, zou je moeten doen\n",
      "ko 3 고객 서비스에 문의했거나 그 이유를 찾았습니까, 감사합니다, 꽃을 더 많이 주어야합니다,\n",
      "lt Aš paklausiau 3 klientų aptarnavimo tarnybos ar radau priežastis, Ačiū, turėtumėte duoti daugiau gėlių\n",
      "it Ho chiesto al servizio clienti 3 o hai trovato il motivo, Grazie, dovresti dare più fiori, dovresti\n",
      "hr Pitao sam 3 službu za korisnike ili ste pronašli razlog, Hvala, trebali biste dati više cvijeća, trebali biste\n",
      "de Ich fragte 3 Kundenservice oder haben Sie den Grund gefunden, Vielen Dank, Sie sollten mehr Blumen geben, sollten Sie\n",
      "我问了3个客服了 还是靠你才找到原因呢 谢谢你 多给几朵鲜花都应该哒,,, Done\n",
      "en Although I am angry, I still want to praise your service,\n",
      "ja 私は怒っていますが、私はまだあなたのサービスを賞賛したいです,\n",
      "th แม้ว่าฉันโกรธฉันก็ยังอยากสรรเสริญบริการของคุณ\n",
      "es Aunque estoy enojado, todavía quiero elogiar tu servicio,\n",
      "fr Bien que je sois en colère, je veux toujours féliciter votre service,\n",
      "ru Хотя я злюсь, я все еще хочу хвалить ваше служение,\n"
     ]
    },
    {
     "ename": "KeyboardInterrupt",
     "evalue": "",
     "output_type": "error",
     "traceback": [
      "\u001b[0;31m---------------------------------------------------------------------------\u001b[0m",
      "\u001b[0;31mKeyboardInterrupt\u001b[0m                         Traceback (most recent call last)",
      "\u001b[0;32m<ipython-input-118-3c03b89cea26>\u001b[0m in \u001b[0;36m<module>\u001b[0;34m()\u001b[0m\n\u001b[1;32m      2\u001b[0m \u001b[0maug_amount\u001b[0m \u001b[0;34m=\u001b[0m \u001b[0;34m[\u001b[0m\u001b[0;34m]\u001b[0m\u001b[0;34m\u001b[0m\u001b[0m\n\u001b[1;32m      3\u001b[0m \u001b[0;32mfor\u001b[0m \u001b[0mcontent\u001b[0m \u001b[0;32min\u001b[0m \u001b[0mpraise\u001b[0m\u001b[0;34m[\u001b[0m\u001b[0;34m'content'\u001b[0m\u001b[0;34m]\u001b[0m\u001b[0;34m.\u001b[0m\u001b[0mtolist\u001b[0m\u001b[0;34m(\u001b[0m\u001b[0;34m)\u001b[0m\u001b[0;34m:\u001b[0m\u001b[0;34m\u001b[0m\u001b[0m\n\u001b[0;32m----> 4\u001b[0;31m     \u001b[0mres\u001b[0m \u001b[0;34m=\u001b[0m \u001b[0mpd\u001b[0m\u001b[0;34m.\u001b[0m\u001b[0mDataFrame\u001b[0m\u001b[0;34m(\u001b[0m\u001b[0mmulti_trans\u001b[0m\u001b[0;34m(\u001b[0m\u001b[0mcontent\u001b[0m\u001b[0;34m)\u001b[0m\u001b[0;34m)\u001b[0m\u001b[0;34m\u001b[0m\u001b[0m\n\u001b[0m\u001b[1;32m      5\u001b[0m     \u001b[0mres\u001b[0m \u001b[0;34m=\u001b[0m \u001b[0mres\u001b[0m\u001b[0;34m.\u001b[0m\u001b[0mdrop_duplicates\u001b[0m\u001b[0;34m(\u001b[0m\u001b[0;34m)\u001b[0m\u001b[0;34m\u001b[0m\u001b[0m\n\u001b[1;32m      6\u001b[0m     \u001b[0maug_amount\u001b[0m\u001b[0;34m.\u001b[0m\u001b[0mappend\u001b[0m\u001b[0;34m(\u001b[0m\u001b[0mres\u001b[0m\u001b[0;34m.\u001b[0m\u001b[0mshape\u001b[0m\u001b[0;34m[\u001b[0m\u001b[0;36m0\u001b[0m\u001b[0;34m]\u001b[0m\u001b[0;34m)\u001b[0m\u001b[0;34m\u001b[0m\u001b[0m\n",
      "\u001b[0;32m<ipython-input-23-7e8f80a79100>\u001b[0m in \u001b[0;36mmulti_trans\u001b[0;34m(content)\u001b[0m\n\u001b[1;32m      9\u001b[0m     \u001b[0mres\u001b[0m\u001b[0;34m.\u001b[0m\u001b[0mappend\u001b[0m\u001b[0;34m(\u001b[0m\u001b[0mtrans\u001b[0m\u001b[0;34m(\u001b[0m\u001b[0mcontent\u001b[0m\u001b[0;34m,\u001b[0m \u001b[0;34m'fr'\u001b[0m\u001b[0;34m)\u001b[0m\u001b[0;34m)\u001b[0m\u001b[0;34m\u001b[0m\u001b[0m\n\u001b[1;32m     10\u001b[0m     \u001b[0mres\u001b[0m\u001b[0;34m.\u001b[0m\u001b[0mappend\u001b[0m\u001b[0;34m(\u001b[0m\u001b[0mtrans\u001b[0m\u001b[0;34m(\u001b[0m\u001b[0mcontent\u001b[0m\u001b[0;34m,\u001b[0m \u001b[0;34m'ru'\u001b[0m\u001b[0;34m)\u001b[0m\u001b[0;34m)\u001b[0m\u001b[0;34m\u001b[0m\u001b[0m\n\u001b[0;32m---> 11\u001b[0;31m     \u001b[0mres\u001b[0m\u001b[0;34m.\u001b[0m\u001b[0mappend\u001b[0m\u001b[0;34m(\u001b[0m\u001b[0mtrans\u001b[0m\u001b[0;34m(\u001b[0m\u001b[0mcontent\u001b[0m\u001b[0;34m,\u001b[0m \u001b[0;34m'uk'\u001b[0m\u001b[0;34m)\u001b[0m\u001b[0;34m)\u001b[0m\u001b[0;34m\u001b[0m\u001b[0m\n\u001b[0m\u001b[1;32m     12\u001b[0m     \u001b[0mres\u001b[0m\u001b[0;34m.\u001b[0m\u001b[0mappend\u001b[0m\u001b[0;34m(\u001b[0m\u001b[0mtrans\u001b[0m\u001b[0;34m(\u001b[0m\u001b[0mcontent\u001b[0m\u001b[0;34m,\u001b[0m \u001b[0;34m'sv'\u001b[0m\u001b[0;34m)\u001b[0m\u001b[0;34m)\u001b[0m\u001b[0;34m\u001b[0m\u001b[0m\n\u001b[1;32m     13\u001b[0m     \u001b[0mres\u001b[0m\u001b[0;34m.\u001b[0m\u001b[0mappend\u001b[0m\u001b[0;34m(\u001b[0m\u001b[0mtrans\u001b[0m\u001b[0;34m(\u001b[0m\u001b[0mcontent\u001b[0m\u001b[0;34m,\u001b[0m \u001b[0;34m'sr'\u001b[0m\u001b[0;34m)\u001b[0m\u001b[0;34m)\u001b[0m\u001b[0;34m\u001b[0m\u001b[0m\n",
      "\u001b[0;32m<ipython-input-116-b79dc67cfd5b>\u001b[0m in \u001b[0;36mtrans\u001b[0;34m(content, tl)\u001b[0m\n\u001b[1;32m      4\u001b[0m     \u001b[0msl\u001b[0m \u001b[0;34m=\u001b[0m \u001b[0;34m'zh-CN'\u001b[0m\u001b[0;34m\u001b[0m\u001b[0m\n\u001b[1;32m      5\u001b[0m     \u001b[0mtk\u001b[0m \u001b[0;34m=\u001b[0m \u001b[0mjs\u001b[0m\u001b[0;34m.\u001b[0m\u001b[0mgetTk\u001b[0m\u001b[0;34m(\u001b[0m\u001b[0mcontent\u001b[0m\u001b[0;34m)\u001b[0m\u001b[0;34m\u001b[0m\u001b[0m\n\u001b[0;32m----> 6\u001b[0;31m     \u001b[0mmid\u001b[0m \u001b[0;34m=\u001b[0m \u001b[0mtranslate\u001b[0m\u001b[0;34m(\u001b[0m\u001b[0mcontent\u001b[0m\u001b[0;34m,\u001b[0m\u001b[0mtk\u001b[0m\u001b[0;34m,\u001b[0m \u001b[0msl\u001b[0m\u001b[0;34m,\u001b[0m \u001b[0mtl\u001b[0m\u001b[0;34m)\u001b[0m\u001b[0;34m\u001b[0m\u001b[0m\n\u001b[0m\u001b[1;32m      7\u001b[0m     \u001b[0mmid\u001b[0m \u001b[0;34m=\u001b[0m \u001b[0mclean\u001b[0m\u001b[0;34m(\u001b[0m\u001b[0mmid\u001b[0m\u001b[0;34m)\u001b[0m\u001b[0;34m\u001b[0m\u001b[0m\n\u001b[1;32m      8\u001b[0m     \u001b[0mtime\u001b[0m\u001b[0;34m.\u001b[0m\u001b[0msleep\u001b[0m\u001b[0;34m(\u001b[0m\u001b[0;36m3\u001b[0m\u001b[0;34m)\u001b[0m\u001b[0;34m\u001b[0m\u001b[0m\n",
      "\u001b[0;32m<ipython-input-117-05585c12f101>\u001b[0m in \u001b[0;36mtranslate\u001b[0;34m(content, tk, source, target)\u001b[0m\n\u001b[1;32m     34\u001b[0m     \u001b[0;31m#后来感觉，使用正则简直就是把简单的事情复杂化，这里直接切片就Ok了\u001b[0m\u001b[0;34m\u001b[0m\u001b[0;34m\u001b[0m\u001b[0m\n\u001b[1;32m     35\u001b[0m \u001b[0;34m\u001b[0m\u001b[0m\n\u001b[0;32m---> 36\u001b[0;31m     \u001b[0mtime\u001b[0m\u001b[0;34m.\u001b[0m\u001b[0msleep\u001b[0m\u001b[0;34m(\u001b[0m\u001b[0;36m1\u001b[0m \u001b[0;34m+\u001b[0m \u001b[0mrandom\u001b[0m\u001b[0;34m.\u001b[0m\u001b[0mrandom\u001b[0m\u001b[0;34m(\u001b[0m\u001b[0;34m)\u001b[0m\u001b[0;34m)\u001b[0m\u001b[0;34m\u001b[0m\u001b[0m\n\u001b[0m\u001b[1;32m     37\u001b[0m     \u001b[0mresult\u001b[0m \u001b[0;34m=\u001b[0m \u001b[0mopen_url\u001b[0m\u001b[0;34m(\u001b[0m\u001b[0murl\u001b[0m\u001b[0;34m)\u001b[0m\u001b[0;34m\u001b[0m\u001b[0m\n\u001b[1;32m     38\u001b[0m \u001b[0;34m\u001b[0m\u001b[0m\n",
      "\u001b[0;31mKeyboardInterrupt\u001b[0m: "
     ]
    }
   ],
   "source": [
    "total = []\n",
    "aug_amount = []\n",
    "for content in praise['content'].tolist():\n",
    "    res = pd.DataFrame(multi_trans(content))\n",
    "    res = res.drop_duplicates()\n",
    "    aug_amount.append(res.shape[0])\n",
    "    total.append(res[0].tolist())\n",
    "    print(content, 'Done')"
   ]
  },
  {
   "cell_type": "markdown",
   "metadata": {},
   "source": [
    "#### Starting from last breakpoint"
   ]
  },
  {
   "cell_type": "code",
   "execution_count": 35,
   "metadata": {
    "scrolled": false
   },
   "outputs": [
    {
     "name": "stdout",
     "output_type": "stream",
     "text": [
      "320 商家态度很好,, Done\n"
     ]
    }
   ],
   "source": [
    "total1 = []\n",
    "for i in range(320, len(praise_idx['content'].tolist())):\n",
    "    content = praise_idx['content'].tolist()[i]\n",
    "    res = pd.DataFrame(multi_trans(content))\n",
    "    res = res.drop_duplicates()\n",
    "    total1.append(res[0].tolist())\n",
    "    print(i, content, 'Done')"
   ]
  },
  {
   "cell_type": "markdown",
   "metadata": {},
   "source": [
    "#### Write down "
   ]
  },
  {
   "cell_type": "code",
   "execution_count": 58,
   "metadata": {},
   "outputs": [],
   "source": [
    "total_list = []\n",
    "for s in total1:\n",
    "    total_list.extend(s)"
   ]
  },
  {
   "cell_type": "code",
   "execution_count": 34,
   "metadata": {},
   "outputs": [],
   "source": [
    "pd.DataFrame(total_list).to_csv('trans_83-319.csv')"
   ]
  },
  {
   "cell_type": "markdown",
   "metadata": {},
   "source": [
    "#### Concat the result"
   ]
  },
  {
   "cell_type": "code",
   "execution_count": 52,
   "metadata": {},
   "outputs": [],
   "source": [
    "pd1 = pd.read_csv('trans_56.csv')\n",
    "pd2 = pd.read_csv('trans_57-82.csv')\n",
    "pd3 = pd.read_csv('trans_83-319.csv')"
   ]
  },
  {
   "cell_type": "code",
   "execution_count": 53,
   "metadata": {},
   "outputs": [],
   "source": [
    "pd1 = pd1.drop('Unnamed: 0', axis=1)\n",
    "pd2 = pd2.drop('Unnamed: 0', axis=1)\n",
    "pd3 = pd3.drop('Unnamed: 0', axis=1)"
   ]
  },
  {
   "cell_type": "code",
   "execution_count": 63,
   "metadata": {},
   "outputs": [],
   "source": [
    "pd4 = pd.DataFrame(total_list)"
   ]
  },
  {
   "cell_type": "code",
   "execution_count": 68,
   "metadata": {},
   "outputs": [],
   "source": [
    "pd4.columns=['0']"
   ]
  },
  {
   "cell_type": "code",
   "execution_count": 70,
   "metadata": {},
   "outputs": [],
   "source": [
    "total_res = pd.concat([pd1,pd2,pd3,pd4], axis=0)"
   ]
  },
  {
   "cell_type": "code",
   "execution_count": 72,
   "metadata": {},
   "outputs": [],
   "source": [
    "total_res = total_res.reset_index()\n",
    "total_res = total_res.drop(['index'], axis=1)"
   ]
  },
  {
   "cell_type": "code",
   "execution_count": 76,
   "metadata": {},
   "outputs": [],
   "source": [
    "label = pd.DataFrame([4]*total_res.shape[0])\n",
    "res = pd.concat([total_res,label], axis=1)\n",
    "res.columns = ['content', 'label']"
   ]
  },
  {
   "cell_type": "code",
   "execution_count": 77,
   "metadata": {},
   "outputs": [
    {
     "data": {
      "text/html": [
       "<div>\n",
       "<style scoped>\n",
       "    .dataframe tbody tr th:only-of-type {\n",
       "        vertical-align: middle;\n",
       "    }\n",
       "\n",
       "    .dataframe tbody tr th {\n",
       "        vertical-align: top;\n",
       "    }\n",
       "\n",
       "    .dataframe thead th {\n",
       "        text-align: right;\n",
       "    }\n",
       "</style>\n",
       "<table border=\"1\" class=\"dataframe\">\n",
       "  <thead>\n",
       "    <tr style=\"text-align: right;\">\n",
       "      <th></th>\n",
       "      <th>content</th>\n",
       "      <th>label</th>\n",
       "    </tr>\n",
       "  </thead>\n",
       "  <tbody>\n",
       "    <tr>\n",
       "      <th>0</th>\n",
       "      <td>优质的服务，就像一个，</td>\n",
       "      <td>4</td>\n",
       "    </tr>\n",
       "    <tr>\n",
       "      <th>1</th>\n",
       "      <td>优质的服务。</td>\n",
       "      <td>4</td>\n",
       "    </tr>\n",
       "    <tr>\n",
       "      <th>2</th>\n",
       "      <td>优质的服务，如一个，</td>\n",
       "      <td>4</td>\n",
       "    </tr>\n",
       "    <tr>\n",
       "      <th>3</th>\n",
       "      <td>优质的服务，</td>\n",
       "      <td>4</td>\n",
       "    </tr>\n",
       "    <tr>\n",
       "      <th>4</th>\n",
       "      <td>优质的服务，就像一个</td>\n",
       "      <td>4</td>\n",
       "    </tr>\n",
       "  </tbody>\n",
       "</table>\n",
       "</div>"
      ],
      "text/plain": [
       "       content  label\n",
       "0  优质的服务，就像一个，      4\n",
       "1       优质的服务。      4\n",
       "2   优质的服务，如一个，      4\n",
       "3       优质的服务，      4\n",
       "4   优质的服务，就像一个      4"
      ]
     },
     "execution_count": 77,
     "metadata": {},
     "output_type": "execute_result"
    }
   ],
   "source": [
    "res.head()"
   ]
  },
  {
   "cell_type": "code",
   "execution_count": 80,
   "metadata": {},
   "outputs": [],
   "source": [
    "res.to_csv('translation_praise_2698.csv')"
   ]
  },
  {
   "cell_type": "markdown",
   "metadata": {},
   "source": [
    "# Augmentation by thesaurus substitution"
   ]
  },
  {
   "cell_type": "markdown",
   "metadata": {},
   "source": [
    "#### 给出一个词，反查到对应同义词组\n",
    "  \n",
    "thesaurus_all：存储同义词组  \n",
    "word_dict： key是词语，value是同义词组中的索引"
   ]
  },
  {
   "cell_type": "markdown",
   "metadata": {},
   "source": [
    "### 读取同义词词组"
   ]
  },
  {
   "cell_type": "code",
   "execution_count": 70,
   "metadata": {},
   "outputs": [],
   "source": [
    "thesaurus_all = []\n",
    "with open('thesaurus_dict.txt', 'r') as f:\n",
    "     thesaurus_all = f.read().splitlines()"
   ]
  },
  {
   "cell_type": "markdown",
   "metadata": {},
   "source": [
    "### 同义词词典：词语-同义词词组索引"
   ]
  },
  {
   "cell_type": "code",
   "execution_count": 78,
   "metadata": {},
   "outputs": [],
   "source": [
    "word_dict = {}\n",
    "for i in range(len(thesaurus_all)):\n",
    "    words_list = thesaurus_all[i]\n",
    "    for word in words_list.split(','):\n",
    "        word_dict[word] = i\n"
   ]
  },
  {
   "cell_type": "markdown",
   "metadata": {},
   "source": [
    "### E.g."
   ]
  },
  {
   "cell_type": "code",
   "execution_count": 91,
   "metadata": {},
   "outputs": [
    {
     "name": "stdout",
     "output_type": "stream",
     "text": [
      "index in thesaurus_all: 5594\n",
      "thesaurus list: ['能够', '可以', '或许']\n"
     ]
    }
   ],
   "source": [
    "search = word_dict['可以']\n",
    "print('index in thesaurus_all:', search)\n",
    "print('thesaurus list:',thesaurus_all[search].split(','))"
   ]
  },
  {
   "cell_type": "markdown",
   "metadata": {},
   "source": [
    "1. 长句要替换足够多的词才能算是新句  \n",
    "2. 替换的组合方式？"
   ]
  },
  {
   "cell_type": "markdown",
   "metadata": {},
   "source": [
    "### Helper Function"
   ]
  },
  {
   "cell_type": "code",
   "execution_count": 398,
   "metadata": {},
   "outputs": [],
   "source": [
    "\"\"\"\n",
    "Input: \n",
    "origin_sent: sentence to be augmented, \n",
    "word_dict: word - synonym index\n",
    "thesaurus_all: synonym \n",
    "\n",
    "Output:\n",
    "aug_sentences: Augmented sentences (list)\n",
    "\n",
    "This function takes in the original sentence, \n",
    "cut by jieba and find words that can be substituted and substitution choices.\n",
    "\n",
    "According to the ratio between length of original sentence and the amount of substitution words' count, \n",
    "The augmented sentences will be generated by substituting 1,2,3 words.\n",
    "\n",
    "\"\"\"\n",
    "\n",
    "def aug_sent(origin_sent, word_dict, thesaurus_all):\n",
    "    sub_count = 0\n",
    "    choices = {}\n",
    "    origin_sent_list = list(jieba.cut(origin_sent))\n",
    "    for word in origin_sent_list:\n",
    "        if word in word_dict.keys():\n",
    "            sub_count += 1\n",
    "            thesaurus_list = thesaurus_all[word_dict[word]].split(',')\n",
    "            choice = []\n",
    "    #         print(word,':', thesaurus_all[word_dict[word]].split(','))\n",
    "            for w in thesaurus_list:\n",
    "                if word == w: \n",
    "                    continue\n",
    "                else: choice.append(w)\n",
    "    #         print(word, 'substitution choice:',choice)\n",
    "            choices[word] = choice\n",
    "\n",
    "    # print('original sent len:', len(origin_sent_list))\n",
    "    # print('substituable word counts:', sub_count)\n",
    "    # print(choices)\n",
    "\n",
    "    aug_sentences = []\n",
    "\n",
    "    if len(choices) == 0: \n",
    "        return aug_sentences\n",
    "    # 如果 原句词数量/可替换的词数量 > 3 则至少替换三个词才能算新句子\n",
    "    elif len(origin_sent_list)/float(len(choices)) > 3:\n",
    "        aug_sentences = sub3(origin_sent_list, choices)\n",
    "\n",
    "    # 如果 3 > 原句词数量/可替换的词数量 > 2 则至少替换两个词才能算新句子\n",
    "    elif len(origin_sent_list)/float(len(choices)) > 2:\n",
    "        aug_sentences = sub2(origin_sent_list, choices)\n",
    "\n",
    "    else: aug_sentences = sub1(origin_sent_list, choices)\n",
    "\n",
    "#     print('\\naug_amount:',len(aug_sentences))\n",
    "    return aug_sentences"
   ]
  },
  {
   "cell_type": "code",
   "execution_count": 291,
   "metadata": {},
   "outputs": [
    {
     "name": "stdout",
     "output_type": "stream",
     "text": [
      "original sentence:['感谢您', '态度', '这么', '好', ' ', '但', '上架', '活动', '务必', '有', '专人', '跟踪', '反馈', ' ', '不然', '多少', '人', '被', '忽悠', '过去', '又', '花', '冤枉钱', ' ', '主要', '心里', '很', '不', '愉快']\n",
      "\n",
      "original sent len: 29\n",
      "substituable word counts: 8\n",
      "{'态度': ['立场'], '活动': ['运动'], '不然': ['否则'], '多少': ['很多', '好多', '许多', '良多'], '过去': ['已往'], '主要': ['首要'], '心里': ['内心'], '愉快': ['兴奋']}\n",
      "\n",
      "aug_amount: 422\n"
     ]
    }
   ],
   "source": [
    "# origin_sent = '感谢您态度这么好 但上架活动务必有专人跟踪反馈 不然多少人被忽悠过去又花冤枉钱 主要心里很不愉快'\n",
    "# print('original sentence:{}\\n'.format(list(jieba.cut(origin_sent))))\n",
    "\n",
    "# sub_count = 0\n",
    "# choices = {}\n",
    "# origin_sent_list = list(jieba.cut(origin_sent))\n",
    "# for word in origin_sent_list:\n",
    "#     if word in word_dict.keys():\n",
    "#         sub_count += 1\n",
    "#         thesaurus_list = thesaurus_all[word_dict[word]].split(',')\n",
    "#         choice = []\n",
    "# #         print(word,':', thesaurus_all[word_dict[word]].split(','))\n",
    "#         for w in thesaurus_list:\n",
    "#             if word == w: \n",
    "#                 continue\n",
    "#             else: choice.append(w)\n",
    "# #         print(word, 'substitution choice:',choice)\n",
    "#         choices[word] = choice\n",
    "\n",
    "# print('original sent len:', len(origin_sent_list))\n",
    "# print('substituable word counts:', sub_count)\n",
    "# print(choices)\n",
    "\n",
    "# aug_sentences = []\n",
    "# # 如果 原句词数量/可替换的词数量 > 2 则至少替换两个词才能算新句子\n",
    "# if len(origin_sent_list)/float(len(choices)) > 3:\n",
    "#     aug_sentences = sub3(origin_sent_list, choices)\n",
    "# elif len(origin_sent_list)/float(len(choices)) > 2:\n",
    "#     aug_sentences = sub2(origin_sent_list, choices)\n",
    "# else: aug_sentences = sub1(origin_sent_list, choices)\n",
    "    \n",
    "# print('\\naug_amount:',len(aug_sentences))"
   ]
  },
  {
   "cell_type": "markdown",
   "metadata": {},
   "source": [
    "### Substitution Functions"
   ]
  },
  {
   "cell_type": "code",
   "execution_count": 219,
   "metadata": {},
   "outputs": [],
   "source": [
    "\"\"\"\n",
    "Input:\n",
    "origin_sent_list: cutted original sentence word list\n",
    "s: word that will be substituted\n",
    "sub_list: substitution choices\n",
    "\n",
    "Output:\n",
    "new_sents: generated new sentences in list\n",
    "\n",
    "\"\"\"\n",
    "\n",
    "import copy\n",
    "def sub(origin_sent_list, s, sub_list):\n",
    "    new_sents = []\n",
    "    for i in range(len(origin_sent_list)):\n",
    "        if origin_sent_list[i] == s:\n",
    "            for sub_w in sub_list:\n",
    "                new_sent_list = copy.copy(origin_sent_list)\n",
    "                new_sent_list[i] = sub_w\n",
    "                new_sents.append(new_sent_list)\n",
    "#                 new_sents.append(''.join(new_sent_list))\n",
    "    return new_sents"
   ]
  },
  {
   "cell_type": "markdown",
   "metadata": {},
   "source": [
    "#### E.g."
   ]
  },
  {
   "cell_type": "code",
   "execution_count": 205,
   "metadata": {},
   "outputs": [],
   "source": [
    "# origin_sent = '感谢您态度这么好 但上架活动务必有专人跟踪反馈 不然多少人被忽悠过去又花冤枉钱 主要心里很不愉快'\n",
    "# origin_sent_list = list(jieba.cut(origin_sent))\n",
    "# sub(origin_sent_list, '多少', choices['多少'])"
   ]
  },
  {
   "cell_type": "code",
   "execution_count": 484,
   "metadata": {},
   "outputs": [],
   "source": [
    "\"\"\"\n",
    "substitute only one word with all choices\n",
    "\"\"\"\n",
    "\n",
    "# sub1(origin_sent_list, choices)\n",
    "def sub1(origin_sent_list, choices):\n",
    "    choices_list = list(choices.keys())\n",
    "    all_list = []\n",
    "    for i in range(len(choices_list)):\n",
    "        all_list.extend(sub(origin_sent_list, choices_list[i], choices[choices_list[i]]))\n",
    "\n",
    "    all_new = []\n",
    "    for s_list in all_list:\n",
    "        all_new.append(''.join(s_list))\n",
    "    return all_new"
   ]
  },
  {
   "cell_type": "code",
   "execution_count": 249,
   "metadata": {},
   "outputs": [],
   "source": [
    "\"\"\"\n",
    "substitute two words\n",
    "\"\"\"\n",
    "\n",
    "# sub2(origin_sent_list, choices)\n",
    "def sub2(origin_sent_list, choices):\n",
    "    choices_list = list(choices.keys())\n",
    "    all_list = []\n",
    "    for i in range(len(choices_list)):\n",
    "        j = i\n",
    "        for j in range(j+1,len(choices_list)-1):\n",
    "#             print(choices_list[i],choices_list[j])\n",
    "            sub_first = sub(origin_sent_list, choices_list[i], choices[choices_list[i]])\n",
    "#             print('first',sub_first)\n",
    "            for sent in sub_first:\n",
    "                all_list.extend(sub(sent, choices_list[j], choices[choices_list[j]]))\n",
    "#             print('all',all_list)\n",
    "#             print(len(all_list))\n",
    "\n",
    "    all_new = []\n",
    "    for s_list in all_list:\n",
    "        all_new.append(''.join(s_list))\n",
    "    return all_new"
   ]
  },
  {
   "cell_type": "code",
   "execution_count": 279,
   "metadata": {},
   "outputs": [],
   "source": [
    "\"\"\"\n",
    "substitute three words\n",
    "\"\"\"\n",
    "\n",
    "# sub3(origin_sent_list, choices)\n",
    "def sub3(origin_sent_list, choices):\n",
    "    choices_list = list(choices.keys())\n",
    "    sub_second = []\n",
    "    all_list = []\n",
    "    for i in range(len(choices_list)):\n",
    "        j = i\n",
    "        for j in range(j+1,len(choices_list)-1):\n",
    "            sub_first = sub(origin_sent_list, choices_list[i], choices[choices_list[i]])\n",
    "            for sent in sub_first:\n",
    "                sub_second.extend(sub(sent, choices_list[j], choices[choices_list[j]]))\n",
    "            k = j\n",
    "\n",
    "            for k in range(k+1, len(choices_list)-1):\n",
    "    #             print(choices_list[i],choices_list[j], choices_list[k])\n",
    "                for sent in sub_second:\n",
    "                    all_list.extend(sub(sent, choices_list[k], choices[choices_list[k]]))\n",
    "    #         print(len(all_list))\n",
    "\n",
    "    all_new = []\n",
    "    for s_list in all_list:\n",
    "        all_new.append(''.join(s_list))\n",
    "    return all_new"
   ]
  },
  {
   "cell_type": "markdown",
   "metadata": {},
   "source": [
    "## Main"
   ]
  },
  {
   "cell_type": "markdown",
   "metadata": {},
   "source": [
    "#### print out the sentences that has more than 1000 aug amounts\n"
   ]
  },
  {
   "cell_type": "code",
   "execution_count": 478,
   "metadata": {},
   "outputs": [
    {
     "name": "stdout",
     "output_type": "stream",
     "text": [
      "和闺蜜一起过来纹眉的，刚开始怕很生硬，怕不自然，很紧张。跟JESS老师沟通后，还是很信任的做了，照片拍不出感觉，真的很自然，跟画了淡淡的眉粉淡妆一样，很喜欢呀。\n",
      "哦，那算了吧，碰上那个碰瓷的，又遇到你们大众点评网这个平台，我只能认倒霉了，唉，不过还是要谢谢您，回答问题有耐心\n",
      "好的。非常感谢你耐心解决我的问题。后续开立分店后如果遇到问题我会继续咨询的。另外也建议可以专门制作一个分店的操作手册。这样有需求的商家可以直接阅读手册，减少客服的工作量。\n",
      "四月三十号我们在美团网预订了如家魅力海景公寓四天，五一到了这家海景公寓，因特殊情况我们需要退房间，美团客服获悉我们的诉求后，经过认真沟通和耐心协调，妥善处理了此事。感谢美团的官方领导！感谢美团的运营工作人员！感谢美团的客服人员！\n",
      "四月三十号我们在美团网预订了青岛的如家魅力海景公寓四天，五一到了这家海景公寓，因特殊情况我们需要退房间，美团客服获悉我们的诉求后，经过认真沟通和耐心协调，妥善处理了此事。感谢美团的官方领导！感谢美团的运营工作人员！感谢美团的客服人员！\n",
      "好吧。。。虽然问题可能还是无法解决 但还是要谢谢你这么耐心的帮我 给你个好评\n",
      "Total Augmented Amount: 6423\n"
     ]
    }
   ],
   "source": [
    "total_aug = pd.DataFrame()\n",
    "aug_amount = []\n",
    "sent_list = praise['content'].tolist()\n",
    "sent_list[15] = '和闺蜜一起过来纹眉的，刚开始怕很生硬，怕不自然，很紧张。跟JESS老师沟通后，还是很信任的做了，照片拍不出感觉，真的很自然，跟画了淡淡的眉粉淡妆一样，很喜欢呀。'\n",
    "for sent in sent_list:  \n",
    "#     print(sent)\n",
    "    aug_sentences = aug_sent(sent, word_dict, thesaurus_all)\n",
    "    if(len(aug_sentences) == 0):\n",
    "        continue\n",
    "    if len(aug_sentences)>1000:\n",
    "        print(sent)\n",
    "    aug_sentences_df = pd.DataFrame(aug_sentences).drop_duplicates()\n",
    "    total_aug = total_aug.append(aug_sentences_df)\n",
    "    aug_amount.append(aug_sentences_df.shape[0])\n",
    "print('Total Augmented Amount:', total_aug.shape[0])"
   ]
  },
  {
   "cell_type": "markdown",
   "metadata": {},
   "source": [
    "### Analysis and Write Down"
   ]
  },
  {
   "cell_type": "code",
   "execution_count": 481,
   "metadata": {},
   "outputs": [
    {
     "data": {
      "text/plain": [
       "[<matplotlib.lines.Line2D at 0x12b0a59e8>]"
      ]
     },
     "execution_count": 481,
     "metadata": {},
     "output_type": "execute_result"
    },
    {
     "data": {
      "image/png": "[encoded data removed]",
      "text/plain": [
       "<Figure size 432x288 with 1 Axes>"
      ]
     },
     "metadata": {},
     "output_type": "display_data"
    }
   ],
   "source": [
    "import matplotlib.pyplot as plt\n",
    "plt.plot(aug_amount)"
   ]
  },
  {
   "cell_type": "code",
   "execution_count": 482,
   "metadata": {},
   "outputs": [
    {
     "data": {
      "text/plain": [
       "33955"
      ]
     },
     "execution_count": 482,
     "metadata": {},
     "output_type": "execute_result"
    }
   ],
   "source": [
    "sent = '好的。非常感谢你耐心解决我的问题。后续开立分店后如果遇到问题我会继续咨询的。另外也建议可以专门制作一个分店的操作手册。这样有需求的商家可以直接阅读手册，减少客服的工作量。'\n",
    "len(aug_sent(sent, word_dict, thesaurus_all))"
   ]
  },
  {
   "cell_type": "code",
   "execution_count": 492,
   "metadata": {},
   "outputs": [],
   "source": [
    "label = pd.DataFrame([4]*total_aug.shape[0])\n",
    "total_aug = total_aug.reset_index()\n",
    "total_aug = total_aug.drop(['index'], axis=1)\n",
    "res = pd.concat([total_aug,label], axis=1)\n",
    "res = res.drop(['level_0'], axis=1)\n",
    "res.columns = ['content', 'label']"
   ]
  },
  {
   "cell_type": "code",
   "execution_count": 510,
   "metadata": {},
   "outputs": [
    {
     "data": {
      "text/html": [
       "<div>\n",
       "<style scoped>\n",
       "    .dataframe tbody tr th:only-of-type {\n",
       "        vertical-align: middle;\n",
       "    }\n",
       "\n",
       "    .dataframe tbody tr th {\n",
       "        vertical-align: top;\n",
       "    }\n",
       "\n",
       "    .dataframe thead th {\n",
       "        text-align: right;\n",
       "    }\n",
       "</style>\n",
       "<table border=\"1\" class=\"dataframe\">\n",
       "  <thead>\n",
       "    <tr style=\"text-align: right;\">\n",
       "      <th></th>\n",
       "      <th>content</th>\n",
       "      <th>label</th>\n",
       "    </tr>\n",
       "  </thead>\n",
       "  <tbody>\n",
       "    <tr>\n",
       "      <th>0</th>\n",
       "      <td>固然我很气愤，但是还是要对你的服务点个赞</td>\n",
       "      <td>4</td>\n",
       "    </tr>\n",
       "    <tr>\n",
       "      <th>1</th>\n",
       "      <td>固然我很愤恚，但是还是要对你的服务点个赞</td>\n",
       "      <td>4</td>\n",
       "    </tr>\n",
       "    <tr>\n",
       "      <th>2</th>\n",
       "      <td>当然我很气愤，但是还是要对你的服务点个赞</td>\n",
       "      <td>4</td>\n",
       "    </tr>\n",
       "    <tr>\n",
       "      <th>3</th>\n",
       "      <td>当然我很愤恚，但是还是要对你的服务点个赞</td>\n",
       "      <td>4</td>\n",
       "    </tr>\n",
       "    <tr>\n",
       "      <th>4</th>\n",
       "      <td>固然我很生气，然则还是要对你的服务点个赞</td>\n",
       "      <td>4</td>\n",
       "    </tr>\n",
       "  </tbody>\n",
       "</table>\n",
       "</div>"
      ],
      "text/plain": [
       "                content  label\n",
       "0  固然我很气愤，但是还是要对你的服务点个赞      4\n",
       "1  固然我很愤恚，但是还是要对你的服务点个赞      4\n",
       "2  当然我很气愤，但是还是要对你的服务点个赞      4\n",
       "3  当然我很愤恚，但是还是要对你的服务点个赞      4\n",
       "4  固然我很生气，然则还是要对你的服务点个赞      4"
      ]
     },
     "execution_count": 510,
     "metadata": {},
     "output_type": "execute_result"
    }
   ],
   "source": [
    "res.head()"
   ]
  },
  {
   "cell_type": "code",
   "execution_count": 497,
   "metadata": {},
   "outputs": [],
   "source": [
    "res.to_csv('substitution_praise_6423.csv')"
   ]
  }
 ],
 "metadata": {
  "kernelspec": {
   "display_name": "Python [conda env:python36]",
   "language": "python",
   "name": "conda-env-python36-py"
  },
  "language_info": {
   "codemirror_mode": {
    "name": "ipython",
    "version": 3
   },
   "file_extension": ".py",
   "mimetype": "text/x-python",
   "name": "python",
   "nbconvert_exporter": "python",
   "pygments_lexer": "ipython3",
   "version": "3.6.5"
  }
 },
 "nbformat": 4,
 "nbformat_minor": 2
}
